{
 "cells": [
  {
   "cell_type": "markdown",
   "id": "badb8f8a-72f8-4bf2-b2f3-9a3a8a1fa4d3",
   "metadata": {},
   "source": [
    "<div style=\"text-align: center;\">\n",
    "  <h1>--: SHIPMENT TRACKING :--</h1>\n",
    "</div>"
   ]
  },
  {
   "cell_type": "markdown",
   "id": "707eee8f-7a99-4bcf-8f28-040346b04094",
   "metadata": {},
   "source": [
    "## Introduction\n",
    "\n",
    "This script defines a `ShipmentProcessor` class to ingest, transform, and export courier tracking data for analytical consumption. It:\n",
    "\n",
    "1. **Loads** a nested JSON file of shipment events from our logistics partner.  \n",
    "2. **Flattens** each shipment record—extracting tracking number, payment type, pickup/delivery timestamps, geolocation details, weight, and delivery attempt counts—into a tidy tabular format.  \n",
    "3. **Exports** the cleaned dataset to `shipment_tracking_output.csv` and computes summary statistics (mean, median, mode) for journey durations and delivery attempts, saving them to `shipment_summary_statistics.csv`.  \n",
    "\n",
    "Designed for clarity and maintainability, it uses Python’s built‑in `json` module, Pandas for data handling, and `logging` for robust error reporting.\n",
    "For simplicity, logging is configured to output to the console—whereas in real‑time or production environments, I extend this setup to write detailed log files for auditability and long‑term monitoring.\n"
   ]
  },
  {
   "cell_type": "markdown",
   "id": "4aff6235-46b9-42c5-a2a9-603dabda58d6",
   "metadata": {},
   "source": [
    "#### 1) Import Required Libraries"
   ]
  },
  {
   "cell_type": "code",
   "execution_count": null,
   "id": "c2afd62d-aaf9-42a3-a9b3-28d9fea63d84",
   "metadata": {},
   "outputs": [],
   "source": [
    "import json\n",
    "import pandas as pd\n",
    "import logging\n",
    "from datetime import datetime"
   ]
  },
  {
   "cell_type": "markdown",
   "id": "ba4360b0-9916-423a-9a63-3d00496af7fb",
   "metadata": {},
   "source": [
    "#### 2) Setup Logging for monitoring and Exception handling"
   ]
  },
  {
   "cell_type": "code",
   "execution_count": null,
   "id": "25a7b325-d8b8-410e-9684-7f228f0d6d37",
   "metadata": {},
   "outputs": [],
   "source": [
    "logging.basicConfig(level=logging.INFO, format='%(levelname)s:%(message)s')"
   ]
  },
  {
   "cell_type": "markdown",
   "id": "52e9205a-d442-4963-8c44-6bfe0ae22336",
   "metadata": {},
   "source": [
    "#### 3) Defining required Classes and Objects"
   ]
  },
  {
   "cell_type": "code",
   "execution_count": null,
   "id": "17a3ee39-6299-44e8-ad43-0caa3adc13a7",
   "metadata": {},
   "outputs": [],
   "source": [
    "class ShipmentProcessor:\n",
    "    # Processes shipment tracking data from nested JSON into a flattened and analyzable format.\n",
    "    \n",
    "    def __init__(self, json_path: str):\n",
    "        self.json_path = json_path\n",
    "        self.data = []\n",
    "        self.records = []\n",
    "        self.df = pd.DataFrame()\n",
    "\n",
    "    def load_json(self) -> None:\n",
    "        # Loads the JSON data from file\n",
    "        try:\n",
    "            logging.info(\"Loading JSON data...\")\n",
    "            with open(self.json_path, 'r') as f:\n",
    "                self.data = json.load(f)\n",
    "            logging.info(f\"Loaded {len(self.data)} records.\")\n",
    "        except Exception as e:\n",
    "            logging.error(f\"Failed to load JSON: {e}\")\n",
    "            raise\n",
    "\n",
    "    def extract_fields(self, shipment: dict) -> dict:\n",
    "        # Extract individual shipment fields\n",
    "        try:\n",
    "            # 1) Tracking Number:\n",
    "            tracking_number = shipment.get('trackingNumber')\n",
    "            \n",
    "            # 2) Shipment weight:\n",
    "            weight = shipment.get('shipmentWeight', {}).get('value')\n",
    "            \n",
    "            # 3) Pickup, Drop locations and out for deliveries datetimes:\n",
    "            event_details = shipment.get('events',[])\n",
    "            ofd_dates = []\n",
    "            # As per the given data, pickup and delivery details are nested under 'events'\n",
    "            for event in event_details:\n",
    "                if(event.get('eventType')=='PU'):\n",
    "                    pickup_details = event.get('address',{})\n",
    "                    pickup_pincode = pickup_details.get('postalCode')\n",
    "                    pickup_city = pickup_details.get('city')\n",
    "                    pickup_state = pickup_details.get('stateOrProvinceCode')\n",
    "                elif(event.get('eventType')=='DL'):\n",
    "                    delivery_details = event.get('address',{})\n",
    "                    drop_state = delivery_details.get('stateOrProvinceCode')\n",
    "                    drop_city = delivery_details.get('city')\n",
    "                    drop_pincode = delivery_details.get('postalCode')\n",
    "                elif(event.get('eventType') == 'OD'):\n",
    "                    ts_str = event.get('timestamp', {}).get('$numberLong')\n",
    "                    ts = int(ts_str)\n",
    "                    ofd_dates.append(pd.to_datetime(ts, unit='ms'))\n",
    "    \n",
    "            # 4) Payment type:\n",
    "            # As per given data, payment details are nested under 'specialHandlings'\n",
    "            payment_details = shipment.get('specialHandlings',[])\n",
    "            payment_type = 'Prepaid'\n",
    "            for payment in payment_details:\n",
    "                if(payment.get('type')=='COD'):\n",
    "                    payment_type = 'COD'\n",
    "                    break\n",
    "    \n",
    "            # 5) Pickup and Delivery Datetime\n",
    "            # As per the given data, pickup and delivery datetimes are nested under 'datesOrTimes'\n",
    "            datetime_details = shipment.get('datesOrTimes',[])\n",
    "            for date in datetime_details:\n",
    "                if(date.get('type')=='ACTUAL_DELIVERY'):\n",
    "                    delivery_date_time = pd.to_datetime(date.get('dateOrTimestamp'))\n",
    "                if(date.get('type')=='ACTUAL_PICKUP'):\n",
    "                    pickup_date_time = pd.to_datetime(date.get('dateOrTimestamp'))\n",
    "                    \n",
    "            # Calculation of required metrics\n",
    "            \n",
    "            # 6) Days taken for delivery:\n",
    "            days_taken = (delivery_date_time-pickup_date_time).days\n",
    "            \n",
    "            # 7) Delivery attempts:\n",
    "            ofd = set([x.date() for x in ofd_dates])\n",
    "            delivery_attempts= len(ofd)+1\n",
    "            # If delivery happens on the same day as out-for-delivery, it counts as one attempt\n",
    "            if(delivery_date_time.date() in ofd):\n",
    "                delivery_attempts-=1\n",
    "            \n",
    "            # Finally, return the extracted fields as a dictionary\n",
    "            return {\n",
    "                \"Tracking Number\": tracking_number,\n",
    "                \"Payment Type\": payment_type,\n",
    "                \"Pickup Datetime\": pickup_date_time,\n",
    "                \"Delivery Datetime\": delivery_date_time,\n",
    "                \"Days Taken for Delivery\": days_taken,\n",
    "                \"Shipment Weight\": weight,\n",
    "                \"Pickup city\": pickup_city,\n",
    "                \"Pickup state\": pickup_state,\n",
    "                \"Pickup pincode\": pickup_pincode,\n",
    "                \"Delivery city\" : drop_city,\n",
    "                \"Delivery state\": drop_state,\n",
    "                \"Delivery pincode\": drop_pincode,\n",
    "                \"Number of Delivery Attempts\":delivery_attempts\n",
    "            }\n",
    "        except Exception as e:\n",
    "            logging.error(f\"Error extracting shipment: {e}\")\n",
    "            return {}\n",
    "\n",
    "    def flatten(self) -> None:\n",
    "        # Flattens all shipments into a records list\n",
    "        try:\n",
    "            logging.info(\"Flattening data...\")\n",
    "            for entry in self.data:\n",
    "                for shipment in entry.get('trackDetails', []):\n",
    "                    record = self.extract_fields(shipment)\n",
    "                    self.records.append(record)\n",
    "            logging.info(f\"Extracted {len(self.records)} flattened records.\")\n",
    "        except Exception as e:\n",
    "            logging.error(f\"Failed during flattening: {e}\")\n",
    "            raise\n",
    "\n",
    "    def to_dataframe(self) -> pd.DataFrame:\n",
    "        # Converts records to DataFrame\n",
    "        try:\n",
    "            self.df = pd.DataFrame(self.records)\n",
    "            logging.info(\"Converted records to dataframe\")\n",
    "            return self.df\n",
    "        except Exception as e:\n",
    "            logging.error(f\"Failed to convert records to DataFrame: {e}\")\n",
    "            raise\n",
    "\n",
    "    def save_to_csv(self, filename: str) -> None:\n",
    "        # Saves flattened shipment data to CSV\n",
    "        try:\n",
    "            self.df.to_csv(filename, index=False)\n",
    "            logging.info(f\"Saved shipment data to {filename}\")\n",
    "        except Exception as e:\n",
    "            logging.error(f\"Failed to save CSV: {e}\")\n",
    "            raise\n",
    "\n",
    "    def safe_mode(self, series: pd.Series) -> float | None:\n",
    "        # Calculates and returns mode of a series\n",
    "        mode_vals = series.mode()\n",
    "        if not mode_vals.empty:\n",
    "            return mode_vals[0]\n",
    "        else:\n",
    "            return None\n",
    "\n",
    "    def get_summary_stats(self, series: pd.Series) -> list[float | None]:\n",
    "        # Returns mean, median, and mode of a series\n",
    "        return [\n",
    "            round(series.mean(),2),\n",
    "            round(series.median(),2),\n",
    "            round(self.safe_mode(series),2)\n",
    "        ]\n",
    "\n",
    "    def export_summary_statistics(self, output_file: str) -> None:\n",
    "        # Calculates and saves summary statistics to CSV\n",
    "        try:\n",
    "            # Dictionary to hold summary statistics\n",
    "            summary = {\n",
    "                \"Metric\": [\"Mean\", \"Median\", \"Mode\"],\n",
    "                \"Days Taken for Delivery\": self.get_summary_stats(self.df['Days Taken for Delivery']),\n",
    "                \"Delivery Attempts\": self.get_summary_stats(self.df['Number of Delivery Attempts'])\n",
    "            }\n",
    "            summary_df = pd.DataFrame(summary)\n",
    "            summary_df.to_csv(output_file, index=False)\n",
    "            logging.info(f\"Saved summary statistics to {output_file}\")\n",
    "        except Exception as e:\n",
    "            logging.error(f\"Failed to compute summary: {e}\")\n",
    "            raise"
   ]
  },
  {
   "cell_type": "markdown",
   "id": "04586f65-87d2-4082-b1c0-9c32814ffe51",
   "metadata": {},
   "source": [
    "#### 4) Final Actions "
   ]
  },
  {
   "cell_type": "markdown",
   "id": "8f210a30-d973-4236-ae45-4fa18f4f0fcc",
   "metadata": {},
   "source": [
    "#### Step 1: Initialize the Shipment Processor Class"
   ]
  },
  {
   "cell_type": "code",
   "execution_count": null,
   "id": "44a1c212-8843-4756-a81e-d2420499a005",
   "metadata": {},
   "outputs": [],
   "source": [
    "processor = ShipmentProcessor('Swift Assignment 4 - Dataset.json')"
   ]
  },
  {
   "cell_type": "markdown",
   "id": "8b01f16d-7961-4227-970a-37998c1802d7",
   "metadata": {},
   "source": [
    "#### Step 2: Load Shipment Tracking JSON Data"
   ]
  },
  {
   "cell_type": "code",
   "execution_count": null,
   "id": "c400b7c8-b25d-4dc9-a77a-6062337a90b8",
   "metadata": {},
   "outputs": [],
   "source": [
    "processor.load_json()"
   ]
  },
  {
   "cell_type": "markdown",
   "id": "0ef26757-920e-45c9-b2a6-e6a5d8050a9a",
   "metadata": {},
   "source": [
    "#### Step 3: Flatten Nested Shipment Records into a Tabular Format"
   ]
  },
  {
   "cell_type": "code",
   "execution_count": null,
   "id": "3bb41977-56ef-4686-b7f5-ff38e3ea8218",
   "metadata": {},
   "outputs": [],
   "source": [
    "processor.flatten()"
   ]
  },
  {
   "cell_type": "markdown",
   "id": "4aec2736-7529-4267-82b4-9c142e76ded2",
   "metadata": {},
   "source": [
    "#### Step 4: Convert Flattened Records into a Pandas DataFrame"
   ]
  },
  {
   "cell_type": "code",
   "execution_count": null,
   "id": "7b107652-b013-4809-90e7-f2e5cd7bc489",
   "metadata": {},
   "outputs": [],
   "source": [
    "processor.to_dataframe()"
   ]
  },
  {
   "cell_type": "markdown",
   "id": "5ee842ae-a657-4131-871e-62ca027e46c3",
   "metadata": {},
   "source": [
    "#### Step 5: Export Cleaned Shipment Data to CSV"
   ]
  },
  {
   "cell_type": "code",
   "execution_count": null,
   "id": "a2af7e96-1ab0-482b-a79c-f368f6152ad8",
   "metadata": {},
   "outputs": [],
   "source": [
    "processor.save_to_csv('shipment_tracking_output.csv')"
   ]
  },
  {
   "cell_type": "markdown",
   "id": "8a7e3df2-5574-47e7-ab0b-5514b694cbac",
   "metadata": {},
   "source": [
    "#### Step 6: Generate Summary Statistics and Export to CSV"
   ]
  },
  {
   "cell_type": "code",
   "execution_count": null,
   "id": "bfb4acc9-7e66-42d4-880d-5d8960fbfdb2",
   "metadata": {},
   "outputs": [],
   "source": [
    "processor.export_summary_statistics('shipment_summary_statistics.csv')"
   ]
  },
  {
   "cell_type": "markdown",
   "id": "2680c9f7-8450-4beb-9621-fc28f2ecb932",
   "metadata": {},
   "source": [
    "#### Final Submissions:\n",
    "\n",
    "- `shipment_tracking_output.csv`: Flattened, cleaned shipment tracking data\n",
    "- `shipment_summary_statistics.csv`: Mean, Median, Mode of Days Taken and Delivery Attempts\n",
    "\n",
    "All steps above include error handling, logging, and code organization using a class-based approach.\n"
   ]
  }
 ],
 "metadata": {
  "kernelspec": {
   "display_name": "Python 3 (ipykernel)",
   "language": "python",
   "name": "python3"
  },
  "language_info": {
   "codemirror_mode": {
    "name": "ipython",
    "version": 3
   },
   "file_extension": ".py",
   "mimetype": "text/x-python",
   "name": "python",
   "nbconvert_exporter": "python",
   "pygments_lexer": "ipython3",
   "version": "3.13.1"
  }
 },
 "nbformat": 4,
 "nbformat_minor": 5
}
